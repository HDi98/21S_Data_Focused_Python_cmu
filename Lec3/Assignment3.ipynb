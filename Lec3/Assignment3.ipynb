{
 "cells": [
  {
   "cell_type": "code",
   "execution_count": 1,
   "metadata": {},
   "outputs": [],
   "source": [
    "import numpy as np"
   ]
  },
  {
   "cell_type": "code",
   "execution_count": 2,
   "metadata": {},
   "outputs": [],
   "source": [
    "arr = np.arange(10)"
   ]
  },
  {
   "cell_type": "code",
   "execution_count": 3,
   "metadata": {},
   "outputs": [
    {
     "data": {
      "text/plain": [
       "array([0, 1, 2, 3, 4, 5, 6, 7, 8, 9])"
      ]
     },
     "execution_count": 3,
     "metadata": {},
     "output_type": "execute_result"
    }
   ],
   "source": [
    "arr"
   ]
  },
  {
   "cell_type": "code",
   "execution_count": 4,
   "metadata": {},
   "outputs": [
    {
     "data": {
      "text/plain": [
       "array([0.        , 1.        , 1.41421356, 1.73205081, 2.        ,\n",
       "       2.23606798, 2.44948974, 2.64575131, 2.82842712, 3.        ])"
      ]
     },
     "execution_count": 4,
     "metadata": {},
     "output_type": "execute_result"
    }
   ],
   "source": [
    "np.sqrt(arr)"
   ]
  },
  {
   "cell_type": "code",
   "execution_count": 5,
   "metadata": {},
   "outputs": [
    {
     "data": {
      "text/plain": [
       "array([1.00000000e+00, 2.71828183e+00, 7.38905610e+00, 2.00855369e+01,\n",
       "       5.45981500e+01, 1.48413159e+02, 4.03428793e+02, 1.09663316e+03,\n",
       "       2.98095799e+03, 8.10308393e+03])"
      ]
     },
     "execution_count": 5,
     "metadata": {},
     "output_type": "execute_result"
    }
   ],
   "source": [
    "np.exp(arr)"
   ]
  },
  {
   "cell_type": "code",
   "execution_count": 6,
   "metadata": {},
   "outputs": [
    {
     "name": "stdout",
     "output_type": "stream",
     "text": [
      "[-1.15208821  0.49571939  0.30495504  0.78781084 -0.75915352  1.90269104\n",
      " -0.38957252 -0.16892638]\n",
      "[ 1.11745088  0.28455311 -1.01564482  3.3362233   0.15750201  1.17834178\n",
      "  1.69015304  1.49862914]\n"
     ]
    }
   ],
   "source": [
    "x = np.random.randn(8)\n",
    "y = np.random.randn(8)\n",
    "print(x)\n",
    "print(y)"
   ]
  },
  {
   "cell_type": "code",
   "execution_count": 7,
   "metadata": {},
   "outputs": [
    {
     "data": {
      "text/plain": [
       "array([1.11745088, 0.49571939, 0.30495504, 3.3362233 , 0.15750201,\n",
       "       1.90269104, 1.69015304, 1.49862914])"
      ]
     },
     "execution_count": 7,
     "metadata": {},
     "output_type": "execute_result"
    }
   ],
   "source": [
    "np.maximum(x, y)"
   ]
  },
  {
   "cell_type": "code",
   "execution_count": 8,
   "metadata": {},
   "outputs": [
    {
     "name": "stdout",
     "output_type": "stream",
     "text": [
      "[ 1.49792955  4.55726519 -1.53839462  5.22296016 -1.52106024  3.48116502\n",
      "  7.9309388 ]\n"
     ]
    }
   ],
   "source": [
    "arr = np.random.randn(7) * 5\n",
    "print(arr)"
   ]
  },
  {
   "cell_type": "code",
   "execution_count": 9,
   "metadata": {},
   "outputs": [],
   "source": [
    "remainder, whole_part = np.modf(arr)"
   ]
  },
  {
   "cell_type": "code",
   "execution_count": 11,
   "metadata": {},
   "outputs": [
    {
     "name": "stdout",
     "output_type": "stream",
     "text": [
      "[ 0.49792955  0.55726519 -0.53839462  0.22296016 -0.52106024  0.48116502\n",
      "  0.9309388 ]\n",
      "[ 1.  4. -1.  5. -1.  3.  7.]\n"
     ]
    }
   ],
   "source": [
    "print(remainder)\n",
    "print(whole_part)"
   ]
  },
  {
   "cell_type": "code",
   "execution_count": 12,
   "metadata": {},
   "outputs": [
    {
     "ename": "TypeError",
     "evalue": "'float' object cannot be interpreted as an integer",
     "output_type": "error",
     "traceback": [
      "\u001b[1;31m---------------------------------------------------------------------------\u001b[0m",
      "\u001b[1;31mTypeError\u001b[0m                                 Traceback (most recent call last)",
      "\u001b[1;32m<ipython-input-12-0e9f9b708d1a>\u001b[0m in \u001b[0;36m<module>\u001b[1;34m\u001b[0m\n\u001b[0;32m      1\u001b[0m \u001b[0mpoints\u001b[0m \u001b[1;33m=\u001b[0m \u001b[0mnp\u001b[0m\u001b[1;33m.\u001b[0m\u001b[0marange\u001b[0m\u001b[1;33m(\u001b[0m\u001b[1;33m-\u001b[0m\u001b[1;36m5\u001b[0m\u001b[1;33m,\u001b[0m \u001b[1;36m5\u001b[0m\u001b[1;33m,\u001b[0m \u001b[1;36m0.01\u001b[0m\u001b[1;33m)\u001b[0m\u001b[1;33m\u001b[0m\u001b[1;33m\u001b[0m\u001b[0m\n\u001b[1;32m----> 2\u001b[1;33m \u001b[0mpoints2\u001b[0m \u001b[1;33m=\u001b[0m \u001b[0mrange\u001b[0m\u001b[1;33m(\u001b[0m\u001b[1;33m-\u001b[0m\u001b[1;36m5\u001b[0m\u001b[1;33m,\u001b[0m \u001b[1;36m5\u001b[0m\u001b[1;33m,\u001b[0m \u001b[1;36m0.01\u001b[0m\u001b[1;33m)\u001b[0m\u001b[1;33m\u001b[0m\u001b[1;33m\u001b[0m\u001b[0m\n\u001b[0m\u001b[0;32m      3\u001b[0m \u001b[0mprint\u001b[0m\u001b[1;33m(\u001b[0m\u001b[0mpoints\u001b[0m\u001b[1;33m)\u001b[0m\u001b[1;33m\u001b[0m\u001b[1;33m\u001b[0m\u001b[0m\n\u001b[0;32m      4\u001b[0m \u001b[0mprint\u001b[0m\u001b[1;33m(\u001b[0m\u001b[0mpoints2\u001b[0m\u001b[1;33m)\u001b[0m\u001b[1;33m\u001b[0m\u001b[1;33m\u001b[0m\u001b[0m\n",
      "\u001b[1;31mTypeError\u001b[0m: 'float' object cannot be interpreted as an integer"
     ]
    }
   ],
   "source": [
    "points = np.arange(-5, 5, 0.01)\n",
    "points2 = range(-5, 5, 0.01)\n",
    "print(points)\n",
    "print(points2) \n",
    "#this means range function is limited to integer value"
   ]
  },
  {
   "cell_type": "code",
   "execution_count": 13,
   "metadata": {},
   "outputs": [
    {
     "name": "stdout",
     "output_type": "stream",
     "text": [
      "[-5.0000000e+00 -4.9900000e+00 -4.9800000e+00 -4.9700000e+00\n",
      " -4.9600000e+00 -4.9500000e+00 -4.9400000e+00 -4.9300000e+00\n",
      " -4.9200000e+00 -4.9100000e+00 -4.9000000e+00 -4.8900000e+00\n",
      " -4.8800000e+00 -4.8700000e+00 -4.8600000e+00 -4.8500000e+00\n",
      " -4.8400000e+00 -4.8300000e+00 -4.8200000e+00 -4.8100000e+00\n",
      " -4.8000000e+00 -4.7900000e+00 -4.7800000e+00 -4.7700000e+00\n",
      " -4.7600000e+00 -4.7500000e+00 -4.7400000e+00 -4.7300000e+00\n",
      " -4.7200000e+00 -4.7100000e+00 -4.7000000e+00 -4.6900000e+00\n",
      " -4.6800000e+00 -4.6700000e+00 -4.6600000e+00 -4.6500000e+00\n",
      " -4.6400000e+00 -4.6300000e+00 -4.6200000e+00 -4.6100000e+00\n",
      " -4.6000000e+00 -4.5900000e+00 -4.5800000e+00 -4.5700000e+00\n",
      " -4.5600000e+00 -4.5500000e+00 -4.5400000e+00 -4.5300000e+00\n",
      " -4.5200000e+00 -4.5100000e+00 -4.5000000e+00 -4.4900000e+00\n",
      " -4.4800000e+00 -4.4700000e+00 -4.4600000e+00 -4.4500000e+00\n",
      " -4.4400000e+00 -4.4300000e+00 -4.4200000e+00 -4.4100000e+00\n",
      " -4.4000000e+00 -4.3900000e+00 -4.3800000e+00 -4.3700000e+00\n",
      " -4.3600000e+00 -4.3500000e+00 -4.3400000e+00 -4.3300000e+00\n",
      " -4.3200000e+00 -4.3100000e+00 -4.3000000e+00 -4.2900000e+00\n",
      " -4.2800000e+00 -4.2700000e+00 -4.2600000e+00 -4.2500000e+00\n",
      " -4.2400000e+00 -4.2300000e+00 -4.2200000e+00 -4.2100000e+00\n",
      " -4.2000000e+00 -4.1900000e+00 -4.1800000e+00 -4.1700000e+00\n",
      " -4.1600000e+00 -4.1500000e+00 -4.1400000e+00 -4.1300000e+00\n",
      " -4.1200000e+00 -4.1100000e+00 -4.1000000e+00 -4.0900000e+00\n",
      " -4.0800000e+00 -4.0700000e+00 -4.0600000e+00 -4.0500000e+00\n",
      " -4.0400000e+00 -4.0300000e+00 -4.0200000e+00 -4.0100000e+00\n",
      " -4.0000000e+00 -3.9900000e+00 -3.9800000e+00 -3.9700000e+00\n",
      " -3.9600000e+00 -3.9500000e+00 -3.9400000e+00 -3.9300000e+00\n",
      " -3.9200000e+00 -3.9100000e+00 -3.9000000e+00 -3.8900000e+00\n",
      " -3.8800000e+00 -3.8700000e+00 -3.8600000e+00 -3.8500000e+00\n",
      " -3.8400000e+00 -3.8300000e+00 -3.8200000e+00 -3.8100000e+00\n",
      " -3.8000000e+00 -3.7900000e+00 -3.7800000e+00 -3.7700000e+00\n",
      " -3.7600000e+00 -3.7500000e+00 -3.7400000e+00 -3.7300000e+00\n",
      " -3.7200000e+00 -3.7100000e+00 -3.7000000e+00 -3.6900000e+00\n",
      " -3.6800000e+00 -3.6700000e+00 -3.6600000e+00 -3.6500000e+00\n",
      " -3.6400000e+00 -3.6300000e+00 -3.6200000e+00 -3.6100000e+00\n",
      " -3.6000000e+00 -3.5900000e+00 -3.5800000e+00 -3.5700000e+00\n",
      " -3.5600000e+00 -3.5500000e+00 -3.5400000e+00 -3.5300000e+00\n",
      " -3.5200000e+00 -3.5100000e+00 -3.5000000e+00 -3.4900000e+00\n",
      " -3.4800000e+00 -3.4700000e+00 -3.4600000e+00 -3.4500000e+00\n",
      " -3.4400000e+00 -3.4300000e+00 -3.4200000e+00 -3.4100000e+00\n",
      " -3.4000000e+00 -3.3900000e+00 -3.3800000e+00 -3.3700000e+00\n",
      " -3.3600000e+00 -3.3500000e+00 -3.3400000e+00 -3.3300000e+00\n",
      " -3.3200000e+00 -3.3100000e+00 -3.3000000e+00 -3.2900000e+00\n",
      " -3.2800000e+00 -3.2700000e+00 -3.2600000e+00 -3.2500000e+00\n",
      " -3.2400000e+00 -3.2300000e+00 -3.2200000e+00 -3.2100000e+00\n",
      " -3.2000000e+00 -3.1900000e+00 -3.1800000e+00 -3.1700000e+00\n",
      " -3.1600000e+00 -3.1500000e+00 -3.1400000e+00 -3.1300000e+00\n",
      " -3.1200000e+00 -3.1100000e+00 -3.1000000e+00 -3.0900000e+00\n",
      " -3.0800000e+00 -3.0700000e+00 -3.0600000e+00 -3.0500000e+00\n",
      " -3.0400000e+00 -3.0300000e+00 -3.0200000e+00 -3.0100000e+00\n",
      " -3.0000000e+00 -2.9900000e+00 -2.9800000e+00 -2.9700000e+00\n",
      " -2.9600000e+00 -2.9500000e+00 -2.9400000e+00 -2.9300000e+00\n",
      " -2.9200000e+00 -2.9100000e+00 -2.9000000e+00 -2.8900000e+00\n",
      " -2.8800000e+00 -2.8700000e+00 -2.8600000e+00 -2.8500000e+00\n",
      " -2.8400000e+00 -2.8300000e+00 -2.8200000e+00 -2.8100000e+00\n",
      " -2.8000000e+00 -2.7900000e+00 -2.7800000e+00 -2.7700000e+00\n",
      " -2.7600000e+00 -2.7500000e+00 -2.7400000e+00 -2.7300000e+00\n",
      " -2.7200000e+00 -2.7100000e+00 -2.7000000e+00 -2.6900000e+00\n",
      " -2.6800000e+00 -2.6700000e+00 -2.6600000e+00 -2.6500000e+00\n",
      " -2.6400000e+00 -2.6300000e+00 -2.6200000e+00 -2.6100000e+00\n",
      " -2.6000000e+00 -2.5900000e+00 -2.5800000e+00 -2.5700000e+00\n",
      " -2.5600000e+00 -2.5500000e+00 -2.5400000e+00 -2.5300000e+00\n",
      " -2.5200000e+00 -2.5100000e+00 -2.5000000e+00 -2.4900000e+00\n",
      " -2.4800000e+00 -2.4700000e+00 -2.4600000e+00 -2.4500000e+00\n",
      " -2.4400000e+00 -2.4300000e+00 -2.4200000e+00 -2.4100000e+00\n",
      " -2.4000000e+00 -2.3900000e+00 -2.3800000e+00 -2.3700000e+00\n",
      " -2.3600000e+00 -2.3500000e+00 -2.3400000e+00 -2.3300000e+00\n",
      " -2.3200000e+00 -2.3100000e+00 -2.3000000e+00 -2.2900000e+00\n",
      " -2.2800000e+00 -2.2700000e+00 -2.2600000e+00 -2.2500000e+00\n",
      " -2.2400000e+00 -2.2300000e+00 -2.2200000e+00 -2.2100000e+00\n",
      " -2.2000000e+00 -2.1900000e+00 -2.1800000e+00 -2.1700000e+00\n",
      " -2.1600000e+00 -2.1500000e+00 -2.1400000e+00 -2.1300000e+00\n",
      " -2.1200000e+00 -2.1100000e+00 -2.1000000e+00 -2.0900000e+00\n",
      " -2.0800000e+00 -2.0700000e+00 -2.0600000e+00 -2.0500000e+00\n",
      " -2.0400000e+00 -2.0300000e+00 -2.0200000e+00 -2.0100000e+00\n",
      " -2.0000000e+00 -1.9900000e+00 -1.9800000e+00 -1.9700000e+00\n",
      " -1.9600000e+00 -1.9500000e+00 -1.9400000e+00 -1.9300000e+00\n",
      " -1.9200000e+00 -1.9100000e+00 -1.9000000e+00 -1.8900000e+00\n",
      " -1.8800000e+00 -1.8700000e+00 -1.8600000e+00 -1.8500000e+00\n",
      " -1.8400000e+00 -1.8300000e+00 -1.8200000e+00 -1.8100000e+00\n",
      " -1.8000000e+00 -1.7900000e+00 -1.7800000e+00 -1.7700000e+00\n",
      " -1.7600000e+00 -1.7500000e+00 -1.7400000e+00 -1.7300000e+00\n",
      " -1.7200000e+00 -1.7100000e+00 -1.7000000e+00 -1.6900000e+00\n",
      " -1.6800000e+00 -1.6700000e+00 -1.6600000e+00 -1.6500000e+00\n",
      " -1.6400000e+00 -1.6300000e+00 -1.6200000e+00 -1.6100000e+00\n",
      " -1.6000000e+00 -1.5900000e+00 -1.5800000e+00 -1.5700000e+00\n",
      " -1.5600000e+00 -1.5500000e+00 -1.5400000e+00 -1.5300000e+00\n",
      " -1.5200000e+00 -1.5100000e+00 -1.5000000e+00 -1.4900000e+00\n",
      " -1.4800000e+00 -1.4700000e+00 -1.4600000e+00 -1.4500000e+00\n",
      " -1.4400000e+00 -1.4300000e+00 -1.4200000e+00 -1.4100000e+00\n",
      " -1.4000000e+00 -1.3900000e+00 -1.3800000e+00 -1.3700000e+00\n",
      " -1.3600000e+00 -1.3500000e+00 -1.3400000e+00 -1.3300000e+00\n",
      " -1.3200000e+00 -1.3100000e+00 -1.3000000e+00 -1.2900000e+00\n",
      " -1.2800000e+00 -1.2700000e+00 -1.2600000e+00 -1.2500000e+00\n",
      " -1.2400000e+00 -1.2300000e+00 -1.2200000e+00 -1.2100000e+00\n",
      " -1.2000000e+00 -1.1900000e+00 -1.1800000e+00 -1.1700000e+00\n",
      " -1.1600000e+00 -1.1500000e+00 -1.1400000e+00 -1.1300000e+00\n",
      " -1.1200000e+00 -1.1100000e+00 -1.1000000e+00 -1.0900000e+00\n",
      " -1.0800000e+00 -1.0700000e+00 -1.0600000e+00 -1.0500000e+00\n",
      " -1.0400000e+00 -1.0300000e+00 -1.0200000e+00 -1.0100000e+00\n",
      " -1.0000000e+00 -9.9000000e-01 -9.8000000e-01 -9.7000000e-01\n",
      " -9.6000000e-01 -9.5000000e-01 -9.4000000e-01 -9.3000000e-01\n",
      " -9.2000000e-01 -9.1000000e-01 -9.0000000e-01 -8.9000000e-01\n",
      " -8.8000000e-01 -8.7000000e-01 -8.6000000e-01 -8.5000000e-01\n",
      " -8.4000000e-01 -8.3000000e-01 -8.2000000e-01 -8.1000000e-01\n",
      " -8.0000000e-01 -7.9000000e-01 -7.8000000e-01 -7.7000000e-01\n",
      " -7.6000000e-01 -7.5000000e-01 -7.4000000e-01 -7.3000000e-01\n",
      " -7.2000000e-01 -7.1000000e-01 -7.0000000e-01 -6.9000000e-01\n",
      " -6.8000000e-01 -6.7000000e-01 -6.6000000e-01 -6.5000000e-01\n",
      " -6.4000000e-01 -6.3000000e-01 -6.2000000e-01 -6.1000000e-01\n",
      " -6.0000000e-01 -5.9000000e-01 -5.8000000e-01 -5.7000000e-01\n",
      " -5.6000000e-01 -5.5000000e-01 -5.4000000e-01 -5.3000000e-01\n",
      " -5.2000000e-01 -5.1000000e-01 -5.0000000e-01 -4.9000000e-01\n",
      " -4.8000000e-01 -4.7000000e-01 -4.6000000e-01 -4.5000000e-01\n",
      " -4.4000000e-01 -4.3000000e-01 -4.2000000e-01 -4.1000000e-01\n",
      " -4.0000000e-01 -3.9000000e-01 -3.8000000e-01 -3.7000000e-01\n",
      " -3.6000000e-01 -3.5000000e-01 -3.4000000e-01 -3.3000000e-01\n",
      " -3.2000000e-01 -3.1000000e-01 -3.0000000e-01 -2.9000000e-01\n",
      " -2.8000000e-01 -2.7000000e-01 -2.6000000e-01 -2.5000000e-01\n",
      " -2.4000000e-01 -2.3000000e-01 -2.2000000e-01 -2.1000000e-01\n",
      " -2.0000000e-01 -1.9000000e-01 -1.8000000e-01 -1.7000000e-01\n",
      " -1.6000000e-01 -1.5000000e-01 -1.4000000e-01 -1.3000000e-01\n",
      " -1.2000000e-01 -1.1000000e-01 -1.0000000e-01 -9.0000000e-02\n",
      " -8.0000000e-02 -7.0000000e-02 -6.0000000e-02 -5.0000000e-02\n",
      " -4.0000000e-02 -3.0000000e-02 -2.0000000e-02 -1.0000000e-02\n",
      " -1.0658141e-13  1.0000000e-02  2.0000000e-02  3.0000000e-02\n",
      "  4.0000000e-02  5.0000000e-02  6.0000000e-02  7.0000000e-02\n",
      "  8.0000000e-02  9.0000000e-02  1.0000000e-01  1.1000000e-01\n",
      "  1.2000000e-01  1.3000000e-01  1.4000000e-01  1.5000000e-01\n",
      "  1.6000000e-01  1.7000000e-01  1.8000000e-01  1.9000000e-01\n",
      "  2.0000000e-01  2.1000000e-01  2.2000000e-01  2.3000000e-01\n",
      "  2.4000000e-01  2.5000000e-01  2.6000000e-01  2.7000000e-01\n",
      "  2.8000000e-01  2.9000000e-01  3.0000000e-01  3.1000000e-01\n",
      "  3.2000000e-01  3.3000000e-01  3.4000000e-01  3.5000000e-01\n",
      "  3.6000000e-01  3.7000000e-01  3.8000000e-01  3.9000000e-01\n",
      "  4.0000000e-01  4.1000000e-01  4.2000000e-01  4.3000000e-01\n",
      "  4.4000000e-01  4.5000000e-01  4.6000000e-01  4.7000000e-01\n",
      "  4.8000000e-01  4.9000000e-01  5.0000000e-01  5.1000000e-01\n",
      "  5.2000000e-01  5.3000000e-01  5.4000000e-01  5.5000000e-01\n",
      "  5.6000000e-01  5.7000000e-01  5.8000000e-01  5.9000000e-01\n",
      "  6.0000000e-01  6.1000000e-01  6.2000000e-01  6.3000000e-01\n",
      "  6.4000000e-01  6.5000000e-01  6.6000000e-01  6.7000000e-01\n",
      "  6.8000000e-01  6.9000000e-01  7.0000000e-01  7.1000000e-01\n",
      "  7.2000000e-01  7.3000000e-01  7.4000000e-01  7.5000000e-01\n",
      "  7.6000000e-01  7.7000000e-01  7.8000000e-01  7.9000000e-01\n",
      "  8.0000000e-01  8.1000000e-01  8.2000000e-01  8.3000000e-01\n",
      "  8.4000000e-01  8.5000000e-01  8.6000000e-01  8.7000000e-01\n",
      "  8.8000000e-01  8.9000000e-01  9.0000000e-01  9.1000000e-01\n",
      "  9.2000000e-01  9.3000000e-01  9.4000000e-01  9.5000000e-01\n",
      "  9.6000000e-01  9.7000000e-01  9.8000000e-01  9.9000000e-01\n",
      "  1.0000000e+00  1.0100000e+00  1.0200000e+00  1.0300000e+00\n",
      "  1.0400000e+00  1.0500000e+00  1.0600000e+00  1.0700000e+00\n",
      "  1.0800000e+00  1.0900000e+00  1.1000000e+00  1.1100000e+00\n",
      "  1.1200000e+00  1.1300000e+00  1.1400000e+00  1.1500000e+00\n",
      "  1.1600000e+00  1.1700000e+00  1.1800000e+00  1.1900000e+00\n",
      "  1.2000000e+00  1.2100000e+00  1.2200000e+00  1.2300000e+00\n",
      "  1.2400000e+00  1.2500000e+00  1.2600000e+00  1.2700000e+00\n",
      "  1.2800000e+00  1.2900000e+00  1.3000000e+00  1.3100000e+00\n",
      "  1.3200000e+00  1.3300000e+00  1.3400000e+00  1.3500000e+00\n",
      "  1.3600000e+00  1.3700000e+00  1.3800000e+00  1.3900000e+00\n",
      "  1.4000000e+00  1.4100000e+00  1.4200000e+00  1.4300000e+00\n",
      "  1.4400000e+00  1.4500000e+00  1.4600000e+00  1.4700000e+00\n",
      "  1.4800000e+00  1.4900000e+00  1.5000000e+00  1.5100000e+00\n",
      "  1.5200000e+00  1.5300000e+00  1.5400000e+00  1.5500000e+00\n",
      "  1.5600000e+00  1.5700000e+00  1.5800000e+00  1.5900000e+00\n",
      "  1.6000000e+00  1.6100000e+00  1.6200000e+00  1.6300000e+00\n",
      "  1.6400000e+00  1.6500000e+00  1.6600000e+00  1.6700000e+00\n",
      "  1.6800000e+00  1.6900000e+00  1.7000000e+00  1.7100000e+00\n",
      "  1.7200000e+00  1.7300000e+00  1.7400000e+00  1.7500000e+00\n",
      "  1.7600000e+00  1.7700000e+00  1.7800000e+00  1.7900000e+00\n",
      "  1.8000000e+00  1.8100000e+00  1.8200000e+00  1.8300000e+00\n",
      "  1.8400000e+00  1.8500000e+00  1.8600000e+00  1.8700000e+00\n",
      "  1.8800000e+00  1.8900000e+00  1.9000000e+00  1.9100000e+00\n",
      "  1.9200000e+00  1.9300000e+00  1.9400000e+00  1.9500000e+00\n",
      "  1.9600000e+00  1.9700000e+00  1.9800000e+00  1.9900000e+00\n",
      "  2.0000000e+00  2.0100000e+00  2.0200000e+00  2.0300000e+00\n",
      "  2.0400000e+00  2.0500000e+00  2.0600000e+00  2.0700000e+00\n",
      "  2.0800000e+00  2.0900000e+00  2.1000000e+00  2.1100000e+00\n",
      "  2.1200000e+00  2.1300000e+00  2.1400000e+00  2.1500000e+00\n",
      "  2.1600000e+00  2.1700000e+00  2.1800000e+00  2.1900000e+00\n",
      "  2.2000000e+00  2.2100000e+00  2.2200000e+00  2.2300000e+00\n",
      "  2.2400000e+00  2.2500000e+00  2.2600000e+00  2.2700000e+00\n",
      "  2.2800000e+00  2.2900000e+00  2.3000000e+00  2.3100000e+00\n",
      "  2.3200000e+00  2.3300000e+00  2.3400000e+00  2.3500000e+00\n",
      "  2.3600000e+00  2.3700000e+00  2.3800000e+00  2.3900000e+00\n",
      "  2.4000000e+00  2.4100000e+00  2.4200000e+00  2.4300000e+00\n",
      "  2.4400000e+00  2.4500000e+00  2.4600000e+00  2.4700000e+00\n",
      "  2.4800000e+00  2.4900000e+00  2.5000000e+00  2.5100000e+00\n",
      "  2.5200000e+00  2.5300000e+00  2.5400000e+00  2.5500000e+00\n",
      "  2.5600000e+00  2.5700000e+00  2.5800000e+00  2.5900000e+00\n",
      "  2.6000000e+00  2.6100000e+00  2.6200000e+00  2.6300000e+00\n",
      "  2.6400000e+00  2.6500000e+00  2.6600000e+00  2.6700000e+00\n",
      "  2.6800000e+00  2.6900000e+00  2.7000000e+00  2.7100000e+00\n",
      "  2.7200000e+00  2.7300000e+00  2.7400000e+00  2.7500000e+00\n",
      "  2.7600000e+00  2.7700000e+00  2.7800000e+00  2.7900000e+00\n",
      "  2.8000000e+00  2.8100000e+00  2.8200000e+00  2.8300000e+00\n",
      "  2.8400000e+00  2.8500000e+00  2.8600000e+00  2.8700000e+00\n",
      "  2.8800000e+00  2.8900000e+00  2.9000000e+00  2.9100000e+00\n",
      "  2.9200000e+00  2.9300000e+00  2.9400000e+00  2.9500000e+00\n",
      "  2.9600000e+00  2.9700000e+00  2.9800000e+00  2.9900000e+00\n",
      "  3.0000000e+00  3.0100000e+00  3.0200000e+00  3.0300000e+00\n",
      "  3.0400000e+00  3.0500000e+00  3.0600000e+00  3.0700000e+00\n",
      "  3.0800000e+00  3.0900000e+00  3.1000000e+00  3.1100000e+00\n",
      "  3.1200000e+00  3.1300000e+00  3.1400000e+00  3.1500000e+00\n",
      "  3.1600000e+00  3.1700000e+00  3.1800000e+00  3.1900000e+00\n",
      "  3.2000000e+00  3.2100000e+00  3.2200000e+00  3.2300000e+00\n",
      "  3.2400000e+00  3.2500000e+00  3.2600000e+00  3.2700000e+00\n",
      "  3.2800000e+00  3.2900000e+00  3.3000000e+00  3.3100000e+00\n",
      "  3.3200000e+00  3.3300000e+00  3.3400000e+00  3.3500000e+00\n",
      "  3.3600000e+00  3.3700000e+00  3.3800000e+00  3.3900000e+00\n",
      "  3.4000000e+00  3.4100000e+00  3.4200000e+00  3.4300000e+00\n",
      "  3.4400000e+00  3.4500000e+00  3.4600000e+00  3.4700000e+00\n",
      "  3.4800000e+00  3.4900000e+00  3.5000000e+00  3.5100000e+00\n",
      "  3.5200000e+00  3.5300000e+00  3.5400000e+00  3.5500000e+00\n",
      "  3.5600000e+00  3.5700000e+00  3.5800000e+00  3.5900000e+00\n",
      "  3.6000000e+00  3.6100000e+00  3.6200000e+00  3.6300000e+00\n",
      "  3.6400000e+00  3.6500000e+00  3.6600000e+00  3.6700000e+00\n",
      "  3.6800000e+00  3.6900000e+00  3.7000000e+00  3.7100000e+00\n",
      "  3.7200000e+00  3.7300000e+00  3.7400000e+00  3.7500000e+00\n",
      "  3.7600000e+00  3.7700000e+00  3.7800000e+00  3.7900000e+00\n",
      "  3.8000000e+00  3.8100000e+00  3.8200000e+00  3.8300000e+00\n",
      "  3.8400000e+00  3.8500000e+00  3.8600000e+00  3.8700000e+00\n",
      "  3.8800000e+00  3.8900000e+00  3.9000000e+00  3.9100000e+00\n",
      "  3.9200000e+00  3.9300000e+00  3.9400000e+00  3.9500000e+00\n",
      "  3.9600000e+00  3.9700000e+00  3.9800000e+00  3.9900000e+00\n",
      "  4.0000000e+00  4.0100000e+00  4.0200000e+00  4.0300000e+00\n",
      "  4.0400000e+00  4.0500000e+00  4.0600000e+00  4.0700000e+00\n",
      "  4.0800000e+00  4.0900000e+00  4.1000000e+00  4.1100000e+00\n",
      "  4.1200000e+00  4.1300000e+00  4.1400000e+00  4.1500000e+00\n",
      "  4.1600000e+00  4.1700000e+00  4.1800000e+00  4.1900000e+00\n",
      "  4.2000000e+00  4.2100000e+00  4.2200000e+00  4.2300000e+00\n",
      "  4.2400000e+00  4.2500000e+00  4.2600000e+00  4.2700000e+00\n",
      "  4.2800000e+00  4.2900000e+00  4.3000000e+00  4.3100000e+00\n",
      "  4.3200000e+00  4.3300000e+00  4.3400000e+00  4.3500000e+00\n",
      "  4.3600000e+00  4.3700000e+00  4.3800000e+00  4.3900000e+00\n",
      "  4.4000000e+00  4.4100000e+00  4.4200000e+00  4.4300000e+00\n",
      "  4.4400000e+00  4.4500000e+00  4.4600000e+00  4.4700000e+00\n",
      "  4.4800000e+00  4.4900000e+00  4.5000000e+00  4.5100000e+00\n",
      "  4.5200000e+00  4.5300000e+00  4.5400000e+00  4.5500000e+00\n",
      "  4.5600000e+00  4.5700000e+00  4.5800000e+00  4.5900000e+00\n",
      "  4.6000000e+00  4.6100000e+00  4.6200000e+00  4.6300000e+00\n",
      "  4.6400000e+00  4.6500000e+00  4.6600000e+00  4.6700000e+00\n",
      "  4.6800000e+00  4.6900000e+00  4.7000000e+00  4.7100000e+00\n",
      "  4.7200000e+00  4.7300000e+00  4.7400000e+00  4.7500000e+00\n",
      "  4.7600000e+00  4.7700000e+00  4.7800000e+00  4.7900000e+00\n",
      "  4.8000000e+00  4.8100000e+00  4.8200000e+00  4.8300000e+00\n",
      "  4.8400000e+00  4.8500000e+00  4.8600000e+00  4.8700000e+00\n",
      "  4.8800000e+00  4.8900000e+00  4.9000000e+00  4.9100000e+00\n",
      "  4.9200000e+00  4.9300000e+00  4.9400000e+00  4.9500000e+00\n",
      "  4.9600000e+00  4.9700000e+00  4.9800000e+00  4.9900000e+00]\n"
     ]
    }
   ],
   "source": [
    "print(points)"
   ]
  },
  {
   "cell_type": "code",
   "execution_count": 14,
   "metadata": {},
   "outputs": [],
   "source": [
    "xs, ys = np.meshgrid(points, points)"
   ]
  },
  {
   "cell_type": "code",
   "execution_count": 15,
   "metadata": {},
   "outputs": [
    {
     "data": {
      "text/plain": [
       "array([[-5.  , -5.  , -5.  , ..., -5.  , -5.  , -5.  ],\n",
       "       [-4.99, -4.99, -4.99, ..., -4.99, -4.99, -4.99],\n",
       "       [-4.98, -4.98, -4.98, ..., -4.98, -4.98, -4.98],\n",
       "       ...,\n",
       "       [ 4.97,  4.97,  4.97, ...,  4.97,  4.97,  4.97],\n",
       "       [ 4.98,  4.98,  4.98, ...,  4.98,  4.98,  4.98],\n",
       "       [ 4.99,  4.99,  4.99, ...,  4.99,  4.99,  4.99]])"
      ]
     },
     "execution_count": 15,
     "metadata": {},
     "output_type": "execute_result"
    }
   ],
   "source": [
    "ys"
   ]
  },
  {
   "cell_type": "code",
   "execution_count": 16,
   "metadata": {},
   "outputs": [
    {
     "data": {
      "text/plain": [
       "array([[-5.  , -4.99, -4.98, ...,  4.97,  4.98,  4.99],\n",
       "       [-5.  , -4.99, -4.98, ...,  4.97,  4.98,  4.99],\n",
       "       [-5.  , -4.99, -4.98, ...,  4.97,  4.98,  4.99],\n",
       "       ...,\n",
       "       [-5.  , -4.99, -4.98, ...,  4.97,  4.98,  4.99],\n",
       "       [-5.  , -4.99, -4.98, ...,  4.97,  4.98,  4.99],\n",
       "       [-5.  , -4.99, -4.98, ...,  4.97,  4.98,  4.99]])"
      ]
     },
     "execution_count": 16,
     "metadata": {},
     "output_type": "execute_result"
    }
   ],
   "source": [
    "xs"
   ]
  },
  {
   "cell_type": "code",
   "execution_count": 17,
   "metadata": {},
   "outputs": [],
   "source": [
    "import matplotlib.pyplot as plt"
   ]
  },
  {
   "cell_type": "code",
   "execution_count": 18,
   "metadata": {},
   "outputs": [],
   "source": [
    "z = np.sqrt(xs**2 + ys**2)"
   ]
  },
  {
   "cell_type": "code",
   "execution_count": 20,
   "metadata": {},
   "outputs": [
    {
     "data": {
      "text/plain": [
       "Text(0.5, 1.0, 'Image plot of $\\\\sqrt{x^2 + y^2}$ for a grid of values')"
      ]
     },
     "execution_count": 20,
     "metadata": {},
     "output_type": "execute_result"
    },
    {
     "data": {
      "image/png": "[encoded data removed]",
      "text/plain": [
       "<Figure size 432x288 with 2 Axes>"
      ]
     },
     "metadata": {
      "needs_background": "light"
     },
     "output_type": "display_data"
    }
   ],
   "source": [
    "plt.imshow(z, cmap=plt.cm.gray); plt.colorbar()\n",
    "plt.title(\"Image plot of $\\sqrt{x^2 + y^2}$ for a grid of values\")"
   ]
  },
  {
   "cell_type": "code",
   "execution_count": 21,
   "metadata": {},
   "outputs": [],
   "source": [
    "xarr = np.array([1.1, 1.2, 1.3, 1.4, 1.5])\n",
    "yarr = np.array([2.1, 2.2, 2.3, 2.4, 2.5])\n",
    "cond = np.array([True, False, True, True, False])"
   ]
  },
  {
   "cell_type": "code",
   "execution_count": 22,
   "metadata": {},
   "outputs": [
    {
     "data": {
      "text/plain": [
       "[1.1, 2.2, 1.3, 1.4, 2.5]"
      ]
     },
     "execution_count": 22,
     "metadata": {},
     "output_type": "execute_result"
    }
   ],
   "source": [
    "result = [(x if c else y) for x, y, c in zip(xarr, yarr, cond)]\n",
    "result"
   ]
  },
  {
   "cell_type": "code",
   "execution_count": 24,
   "metadata": {},
   "outputs": [
    {
     "data": {
      "text/plain": [
       "array([1.1, 2.2, 1.3, 1.4, 2.5])"
      ]
     },
     "execution_count": 24,
     "metadata": {},
     "output_type": "execute_result"
    }
   ],
   "source": [
    "result = np.where(cond, xarr, yarr)\n",
    "result"
   ]
  },
  {
   "cell_type": "code",
   "execution_count": 25,
   "metadata": {},
   "outputs": [
    {
     "data": {
      "text/plain": [
       "array([[ 1.14494641,  1.12659644, -2.51440587,  0.39084207],\n",
       "       [-1.45457299, -0.12415474,  0.04521499, -0.0528245 ],\n",
       "       [-0.72197668, -0.33464759,  1.70443562, -0.11229134],\n",
       "       [ 0.02504089, -0.43708351, -1.93340746,  0.1659188 ]])"
      ]
     },
     "execution_count": 25,
     "metadata": {},
     "output_type": "execute_result"
    }
   ],
   "source": [
    "arr = np.random.randn(4, 4)\n",
    "arr"
   ]
  },
  {
   "cell_type": "code",
   "execution_count": 26,
   "metadata": {},
   "outputs": [
    {
     "data": {
      "text/plain": [
       "array([[False, False, False, False],\n",
       "       [False, False, False, False],\n",
       "       [False, False, False, False],\n",
       "       [False, False, False, False]])"
      ]
     },
     "execution_count": 26,
     "metadata": {},
     "output_type": "execute_result"
    }
   ],
   "source": [
    "arr == 0"
   ]
  },
  {
   "cell_type": "code",
   "execution_count": 27,
   "metadata": {},
   "outputs": [
    {
     "data": {
      "text/plain": [
       "array([[ 2,  2, -2,  2],\n",
       "       [-2, -2,  2, -2],\n",
       "       [-2, -2,  2, -2],\n",
       "       [ 2, -2, -2,  2]])"
      ]
     },
     "execution_count": 27,
     "metadata": {},
     "output_type": "execute_result"
    }
   ],
   "source": [
    "np.where(arr>0, 2, -2)"
   ]
  },
  {
   "cell_type": "code",
   "execution_count": 28,
   "metadata": {},
   "outputs": [
    {
     "data": {
      "text/plain": [
       "array([[ 2.        ,  2.        , -2.51440587,  2.        ],\n",
       "       [-1.45457299, -0.12415474,  2.        , -0.0528245 ],\n",
       "       [-0.72197668, -0.33464759,  2.        , -0.11229134],\n",
       "       [ 2.        , -0.43708351, -1.93340746,  2.        ]])"
      ]
     },
     "execution_count": 28,
     "metadata": {},
     "output_type": "execute_result"
    }
   ],
   "source": [
    "np.where(arr>0, 2, arr)"
   ]
  },
  {
   "cell_type": "code",
   "execution_count": 29,
   "metadata": {},
   "outputs": [
    {
     "name": "stdout",
     "output_type": "stream",
     "text": [
      "[[0.6168383  0.05312142 0.83606218 0.14687099]\n",
      " [0.33638905 0.19340998 0.89089202 0.29599663]\n",
      " [0.21573855 0.79267714 0.11840677 0.01099426]\n",
      " [0.78388604 0.71542917 0.67415001 0.91191348]\n",
      " [0.11581998 0.66836987 0.1565289  0.93747916]]\n",
      "0.4735486939310715\n",
      "0.4735486939310715\n"
     ]
    }
   ],
   "source": [
    "arr = np.random.rand(5, 4)\n",
    "print(arr)\n",
    "print(arr.mean())\n",
    "print(np.mean(arr))"
   ]
  },
  {
   "cell_type": "code",
   "execution_count": 30,
   "metadata": {},
   "outputs": [
    {
     "data": {
      "text/plain": [
       "9.47097387862143"
      ]
     },
     "execution_count": 30,
     "metadata": {},
     "output_type": "execute_result"
    }
   ],
   "source": [
    "arr.sum()"
   ]
  },
  {
   "cell_type": "code",
   "execution_count": 34,
   "metadata": {},
   "outputs": [
    {
     "data": {
      "text/plain": [
       "array([0.41322322, 0.42917192, 0.28445418, 0.77134467, 0.46954948])"
      ]
     },
     "execution_count": 34,
     "metadata": {},
     "output_type": "execute_result"
    }
   ],
   "source": [
    "arr.mean(axis=1)"
   ]
  },
  {
   "cell_type": "code",
   "execution_count": 32,
   "metadata": {},
   "outputs": [
    {
     "data": {
      "text/plain": [
       "array([2.06867191, 2.42300758, 2.67603987, 2.30325451])"
      ]
     },
     "execution_count": 32,
     "metadata": {},
     "output_type": "execute_result"
    }
   ],
   "source": [
    "arr.sum(axis = 0)"
   ]
  },
  {
   "cell_type": "code",
   "execution_count": 35,
   "metadata": {},
   "outputs": [
    {
     "data": {
      "text/plain": [
       "array([ 0,  1,  3,  6, 10, 15, 21, 28], dtype=int32)"
      ]
     },
     "execution_count": 35,
     "metadata": {},
     "output_type": "execute_result"
    }
   ],
   "source": [
    "arr = np.array([0, 1, 2, 3, 4, 5, 6, 7])\n",
    "arr.cumsum()"
   ]
  },
  {
   "cell_type": "code",
   "execution_count": 36,
   "metadata": {},
   "outputs": [
    {
     "data": {
      "text/plain": [
       "array([[  0,   0,   0],\n",
       "       [  3,  12,  60],\n",
       "       [  6,  42, 336]], dtype=int32)"
      ]
     },
     "execution_count": 36,
     "metadata": {},
     "output_type": "execute_result"
    }
   ],
   "source": [
    "arr = np.array([[0, 1, 2], [3, 4, 5], [6, 7, 8]])\n",
    "arr.cumsum(axis=0)\n",
    "arr.cumprod(axis=1)"
   ]
  },
  {
   "cell_type": "code",
   "execution_count": 37,
   "metadata": {},
   "outputs": [
    {
     "data": {
      "text/plain": [
       "49"
      ]
     },
     "execution_count": 37,
     "metadata": {},
     "output_type": "execute_result"
    }
   ],
   "source": [
    "arr = np.random.randn(100)\n",
    "(arr > 0).sum()"
   ]
  },
  {
   "cell_type": "code",
   "execution_count": 39,
   "metadata": {},
   "outputs": [
    {
     "data": {
      "text/plain": [
       "True"
      ]
     },
     "execution_count": 39,
     "metadata": {},
     "output_type": "execute_result"
    }
   ],
   "source": [
    "bools = np.array([False, False, True, False])\n",
    "bools.any()"
   ]
  },
  {
   "cell_type": "code",
   "execution_count": 40,
   "metadata": {},
   "outputs": [
    {
     "data": {
      "text/plain": [
       "False"
      ]
     },
     "execution_count": 40,
     "metadata": {},
     "output_type": "execute_result"
    }
   ],
   "source": [
    "bools.all()"
   ]
  },
  {
   "cell_type": "code",
   "execution_count": 41,
   "metadata": {},
   "outputs": [],
   "source": [
    "arr = np.random.randn(6)\n",
    "arr.sort()\n"
   ]
  },
  {
   "cell_type": "code",
   "execution_count": 42,
   "metadata": {},
   "outputs": [],
   "source": [
    "arr = np.random.randn(5, 3)\n",
    "arr.sort(1)"
   ]
  },
  {
   "cell_type": "code",
   "execution_count": 43,
   "metadata": {},
   "outputs": [],
   "source": [
    "large_arr = np.random.randn(1000)\n",
    "large_arr.sort()"
   ]
  },
  {
   "cell_type": "code",
   "execution_count": 44,
   "metadata": {},
   "outputs": [
    {
     "data": {
      "text/plain": [
       "array([-3.36774020e+00, -3.26872607e+00, -2.76212045e+00, -2.54422794e+00,\n",
       "       -2.49650853e+00, -2.43848357e+00, -2.35898175e+00, -2.32463950e+00,\n",
       "       -2.28326803e+00, -2.27406594e+00, -2.27226951e+00, -2.25974596e+00,\n",
       "       -2.24601833e+00, -2.22649880e+00, -2.21433457e+00, -2.20211236e+00,\n",
       "       -2.19528728e+00, -2.18164951e+00, -2.16117457e+00, -2.15449575e+00,\n",
       "       -2.14420727e+00, -2.13946114e+00, -2.08477212e+00, -2.05750974e+00,\n",
       "       -2.03421698e+00, -2.02374463e+00, -2.02287169e+00, -2.00355609e+00,\n",
       "       -1.95976598e+00, -1.93960590e+00, -1.92518090e+00, -1.92342814e+00,\n",
       "       -1.90764066e+00, -1.89736073e+00, -1.89295848e+00, -1.87643751e+00,\n",
       "       -1.84389796e+00, -1.81786089e+00, -1.81412992e+00, -1.80179798e+00,\n",
       "       -1.78872099e+00, -1.76943024e+00, -1.76345187e+00, -1.76283789e+00,\n",
       "       -1.75597375e+00, -1.74034757e+00, -1.72703763e+00, -1.70764688e+00,\n",
       "       -1.70569523e+00, -1.67343965e+00, -1.67055827e+00, -1.65419516e+00,\n",
       "       -1.63206919e+00, -1.62877619e+00, -1.62838024e+00, -1.61091423e+00,\n",
       "       -1.59904291e+00, -1.58915493e+00, -1.57211894e+00, -1.55833922e+00,\n",
       "       -1.54668887e+00, -1.54626036e+00, -1.52059856e+00, -1.49527072e+00,\n",
       "       -1.49444427e+00, -1.48894384e+00, -1.48221711e+00, -1.47624917e+00,\n",
       "       -1.45347634e+00, -1.43944569e+00, -1.43182809e+00, -1.42433381e+00,\n",
       "       -1.41899502e+00, -1.39462588e+00, -1.39217377e+00, -1.38969450e+00,\n",
       "       -1.36915680e+00, -1.35333394e+00, -1.35125160e+00, -1.34625732e+00,\n",
       "       -1.34369706e+00, -1.33572095e+00, -1.33385710e+00, -1.33360313e+00,\n",
       "       -1.32916277e+00, -1.32721325e+00, -1.32352235e+00, -1.31214567e+00,\n",
       "       -1.30738026e+00, -1.30225816e+00, -1.29842942e+00, -1.29493593e+00,\n",
       "       -1.28812803e+00, -1.28761032e+00, -1.27840604e+00, -1.27530177e+00,\n",
       "       -1.27521442e+00, -1.27017176e+00, -1.26388626e+00, -1.24253531e+00,\n",
       "       -1.24209687e+00, -1.24185257e+00, -1.24088635e+00, -1.23607860e+00,\n",
       "       -1.23499539e+00, -1.23021202e+00, -1.22991966e+00, -1.22737838e+00,\n",
       "       -1.21989654e+00, -1.21146631e+00, -1.21006768e+00, -1.20196334e+00,\n",
       "       -1.19999429e+00, -1.19085026e+00, -1.18559798e+00, -1.18521441e+00,\n",
       "       -1.18414022e+00, -1.17335490e+00, -1.16889168e+00, -1.16799391e+00,\n",
       "       -1.16050777e+00, -1.15750449e+00, -1.15319850e+00, -1.14709519e+00,\n",
       "       -1.14420201e+00, -1.13841931e+00, -1.13751771e+00, -1.13374255e+00,\n",
       "       -1.13223849e+00, -1.13161794e+00, -1.12977170e+00, -1.12648162e+00,\n",
       "       -1.12414429e+00, -1.12039452e+00, -1.11790078e+00, -1.11410562e+00,\n",
       "       -1.09686301e+00, -1.09547571e+00, -1.09166295e+00, -1.09111028e+00,\n",
       "       -1.09080505e+00, -1.08526976e+00, -1.08226418e+00, -1.07808026e+00,\n",
       "       -1.07447099e+00, -1.05088093e+00, -1.04955647e+00, -1.04641681e+00,\n",
       "       -1.04603809e+00, -1.03733836e+00, -1.03627904e+00, -1.03400818e+00,\n",
       "       -1.01717177e+00, -1.01482231e+00, -1.01242821e+00, -1.01211970e+00,\n",
       "       -1.00056620e+00, -9.94644933e-01, -9.87574766e-01, -9.87350147e-01,\n",
       "       -9.84255296e-01, -9.78549538e-01, -9.77566939e-01, -9.75263362e-01,\n",
       "       -9.72032735e-01, -9.65118369e-01, -9.64609682e-01, -9.63766697e-01,\n",
       "       -9.62531183e-01, -9.52293009e-01, -9.45557537e-01, -9.40478469e-01,\n",
       "       -9.40291560e-01, -9.38003512e-01, -9.32340060e-01, -9.27240153e-01,\n",
       "       -9.24587693e-01, -9.24358651e-01, -9.20546877e-01, -9.12310571e-01,\n",
       "       -8.92889466e-01, -8.88443824e-01, -8.83355634e-01, -8.79732899e-01,\n",
       "       -8.78729561e-01, -8.76489499e-01, -8.73476821e-01, -8.72413416e-01,\n",
       "       -8.71304232e-01, -8.66461606e-01, -8.62238986e-01, -8.61661447e-01,\n",
       "       -8.61652313e-01, -8.57647558e-01, -8.56650509e-01, -8.54491127e-01,\n",
       "       -8.52627321e-01, -8.40700591e-01, -8.35700399e-01, -8.35616357e-01,\n",
       "       -8.33813595e-01, -8.31021544e-01, -8.28776904e-01, -8.24554653e-01,\n",
       "       -8.23496433e-01, -8.21239098e-01, -8.18879778e-01, -8.18728847e-01,\n",
       "       -8.18424174e-01, -8.18147496e-01, -8.11293910e-01, -8.04385105e-01,\n",
       "       -8.04011340e-01, -8.00562164e-01, -7.99180433e-01, -7.75378115e-01,\n",
       "       -7.63692442e-01, -7.58391981e-01, -7.52381420e-01, -7.51527095e-01,\n",
       "       -7.48568103e-01, -7.47340145e-01, -7.44853239e-01, -7.42426129e-01,\n",
       "       -7.42091823e-01, -7.41525753e-01, -7.33029944e-01, -7.31125647e-01,\n",
       "       -7.27161667e-01, -7.25288123e-01, -7.18929935e-01, -7.02767185e-01,\n",
       "       -7.00801149e-01, -6.99071802e-01, -6.98673648e-01, -6.95198236e-01,\n",
       "       -6.93951508e-01, -6.93449485e-01, -6.90821436e-01, -6.87342974e-01,\n",
       "       -6.86216011e-01, -6.84114970e-01, -6.83709667e-01, -6.77390275e-01,\n",
       "       -6.70904389e-01, -6.68071086e-01, -6.60821457e-01, -6.60351969e-01,\n",
       "       -6.60298913e-01, -6.56584537e-01, -6.55789193e-01, -6.55332130e-01,\n",
       "       -6.54748724e-01, -6.53709432e-01, -6.52120595e-01, -6.49713366e-01,\n",
       "       -6.45899734e-01, -6.43873882e-01, -6.43288205e-01, -6.41823920e-01,\n",
       "       -6.39356817e-01, -6.37450189e-01, -6.33777674e-01, -6.27553971e-01,\n",
       "       -6.25440922e-01, -6.23454715e-01, -6.13839151e-01, -6.08382062e-01,\n",
       "       -6.03624018e-01, -6.01238611e-01, -6.00158848e-01, -5.97321836e-01,\n",
       "       -5.96565048e-01, -5.88948574e-01, -5.86832688e-01, -5.81570856e-01,\n",
       "       -5.77454377e-01, -5.73768164e-01, -5.73111794e-01, -5.72947830e-01,\n",
       "       -5.72283022e-01, -5.70790229e-01, -5.68481892e-01, -5.67788612e-01,\n",
       "       -5.60456216e-01, -5.60406477e-01, -5.58200070e-01, -5.54102384e-01,\n",
       "       -5.53109182e-01, -5.52138289e-01, -5.46855762e-01, -5.37547880e-01,\n",
       "       -5.29134818e-01, -5.28080243e-01, -5.26066265e-01, -5.24846054e-01,\n",
       "       -5.24834099e-01, -5.23637247e-01, -5.23367567e-01, -5.15108730e-01,\n",
       "       -5.14946041e-01, -5.12613120e-01, -5.11659191e-01, -5.09800181e-01,\n",
       "       -5.09037844e-01, -5.08668182e-01, -5.03942356e-01, -5.02088582e-01,\n",
       "       -4.96179930e-01, -4.91366717e-01, -4.90349590e-01, -4.89282789e-01,\n",
       "       -4.88435028e-01, -4.88183522e-01, -4.84742986e-01, -4.75346195e-01,\n",
       "       -4.74087563e-01, -4.73329532e-01, -4.72080908e-01, -4.67603880e-01,\n",
       "       -4.63495761e-01, -4.63417281e-01, -4.61202609e-01, -4.58909885e-01,\n",
       "       -4.57835246e-01, -4.57630434e-01, -4.52667970e-01, -4.52657502e-01,\n",
       "       -4.51456292e-01, -4.50256552e-01, -4.47402729e-01, -4.46701976e-01,\n",
       "       -4.45434448e-01, -4.43598415e-01, -4.43293325e-01, -4.40898987e-01,\n",
       "       -4.40099655e-01, -4.34903983e-01, -4.33533921e-01, -4.28792913e-01,\n",
       "       -4.20975164e-01, -4.08899073e-01, -4.06002995e-01, -3.95733189e-01,\n",
       "       -3.95278381e-01, -3.94587212e-01, -3.94328688e-01, -3.92516796e-01,\n",
       "       -3.91784275e-01, -3.88491847e-01, -3.83477943e-01, -3.77721636e-01,\n",
       "       -3.76584662e-01, -3.70441952e-01, -3.59252217e-01, -3.58690839e-01,\n",
       "       -3.58432562e-01, -3.57929274e-01, -3.55485623e-01, -3.52153075e-01,\n",
       "       -3.49954720e-01, -3.49851142e-01, -3.46774935e-01, -3.46332797e-01,\n",
       "       -3.41623478e-01, -3.38571828e-01, -3.37594107e-01, -3.34496930e-01,\n",
       "       -3.32092934e-01, -3.31656540e-01, -3.27144294e-01, -3.26079148e-01,\n",
       "       -3.25351218e-01, -3.20795257e-01, -3.18547140e-01, -3.16284138e-01,\n",
       "       -3.14032608e-01, -3.13608256e-01, -3.12085375e-01, -3.09752866e-01,\n",
       "       -3.09451489e-01, -3.08745195e-01, -3.06916253e-01, -3.06350115e-01,\n",
       "       -3.01562344e-01, -3.00121161e-01, -2.90756023e-01, -2.86116373e-01,\n",
       "       -2.85335867e-01, -2.81686622e-01, -2.75945699e-01, -2.71968805e-01,\n",
       "       -2.65369758e-01, -2.58986957e-01, -2.51091600e-01, -2.48503887e-01,\n",
       "       -2.43242446e-01, -2.41501721e-01, -2.41189805e-01, -2.35982333e-01,\n",
       "       -2.32174737e-01, -2.31812736e-01, -2.31616590e-01, -2.30592196e-01,\n",
       "       -2.30119467e-01, -2.28008776e-01, -2.26129568e-01, -2.22225513e-01,\n",
       "       -2.18746517e-01, -2.15216164e-01, -2.11528094e-01, -2.10119088e-01,\n",
       "       -2.08772237e-01, -2.02835029e-01, -1.98643229e-01, -1.92922263e-01,\n",
       "       -1.87548672e-01, -1.86620283e-01, -1.86312115e-01, -1.85604285e-01,\n",
       "       -1.83262262e-01, -1.81203441e-01, -1.78550410e-01, -1.75018475e-01,\n",
       "       -1.72080570e-01, -1.68923332e-01, -1.67034039e-01, -1.64960166e-01,\n",
       "       -1.61421935e-01, -1.59332847e-01, -1.57511621e-01, -1.56244192e-01,\n",
       "       -1.55210301e-01, -1.52473176e-01, -1.52002295e-01, -1.49570371e-01,\n",
       "       -1.44296348e-01, -1.42005079e-01, -1.41805314e-01, -1.40102854e-01,\n",
       "       -1.32961403e-01, -1.31605997e-01, -1.26889742e-01, -1.25407663e-01,\n",
       "       -1.20968622e-01, -1.20338461e-01, -1.20026884e-01, -1.18278083e-01,\n",
       "       -1.12886444e-01, -1.11038507e-01, -1.10916880e-01, -1.10874529e-01,\n",
       "       -1.02504245e-01, -1.00312360e-01, -9.86088794e-02, -9.80458180e-02,\n",
       "       -9.77787490e-02, -9.76208151e-02, -9.28056573e-02, -9.11649246e-02,\n",
       "       -8.59577162e-02, -8.07520294e-02, -8.03606429e-02, -8.00130052e-02,\n",
       "       -7.89491707e-02, -7.70203226e-02, -7.06023011e-02, -7.00594434e-02,\n",
       "       -6.55996653e-02, -6.38859630e-02, -6.14752269e-02, -5.97158167e-02,\n",
       "       -5.45483993e-02, -5.42418801e-02, -4.92381185e-02, -4.89524914e-02,\n",
       "       -4.74999163e-02, -4.61560590e-02, -4.50716733e-02, -4.01904347e-02,\n",
       "       -2.53522183e-02, -1.84114411e-02, -1.47282631e-02, -1.12736569e-02,\n",
       "       -7.64264381e-03, -6.29661236e-03, -4.11998146e-03, -3.39656880e-03,\n",
       "        2.43926094e-03,  4.55771282e-03,  5.47854791e-03,  6.47689164e-03,\n",
       "        6.56005545e-03,  6.69360489e-03,  1.54485028e-02,  2.25195927e-02,\n",
       "        2.39301866e-02,  2.54478616e-02,  2.82032915e-02,  3.35781344e-02,\n",
       "        3.49447576e-02,  3.58372753e-02,  4.14344146e-02,  4.18115674e-02,\n",
       "        4.39290740e-02,  4.46630220e-02,  4.69058914e-02,  4.74732741e-02,\n",
       "        4.90446584e-02,  5.02667926e-02,  5.19933184e-02,  5.46769608e-02,\n",
       "        5.54711926e-02,  5.66027864e-02,  5.81838634e-02,  5.97327577e-02,\n",
       "        6.24720419e-02,  6.44268220e-02,  6.63186179e-02,  6.70972969e-02,\n",
       "        6.82320056e-02,  6.87991851e-02,  7.79146574e-02,  7.86135457e-02,\n",
       "        7.98094199e-02,  9.10256977e-02,  9.71792412e-02,  9.73956127e-02,\n",
       "        9.76341078e-02,  9.81298903e-02,  1.00381890e-01,  1.04263327e-01,\n",
       "        1.05699985e-01,  1.08194142e-01,  1.08345606e-01,  1.11630551e-01,\n",
       "        1.14550287e-01,  1.18134016e-01,  1.25363091e-01,  1.26133035e-01,\n",
       "        1.28357978e-01,  1.35221737e-01,  1.35530143e-01,  1.35971834e-01,\n",
       "        1.36022495e-01,  1.37045168e-01,  1.41487027e-01,  1.45633562e-01,\n",
       "        1.48713012e-01,  1.51799108e-01,  1.60918969e-01,  1.61113745e-01,\n",
       "        1.65885128e-01,  1.68304943e-01,  1.68594871e-01,  1.69153305e-01,\n",
       "        1.72923429e-01,  1.75003647e-01,  1.80158782e-01,  1.83651014e-01,\n",
       "        1.86213837e-01,  1.89946078e-01,  1.91349642e-01,  1.92702518e-01,\n",
       "        1.94020034e-01,  1.97502409e-01,  2.00622045e-01,  2.01395786e-01,\n",
       "        2.01525674e-01,  2.01995636e-01,  2.03294700e-01,  2.03374845e-01,\n",
       "        2.08221668e-01,  2.08732741e-01,  2.10491354e-01,  2.12860125e-01,\n",
       "        2.29224109e-01,  2.29619637e-01,  2.30232579e-01,  2.30751509e-01,\n",
       "        2.34112239e-01,  2.39897332e-01,  2.42165303e-01,  2.43713624e-01,\n",
       "        2.45831775e-01,  2.51864004e-01,  2.54130445e-01,  2.58682627e-01,\n",
       "        2.64622100e-01,  2.67811844e-01,  2.76628950e-01,  2.81510881e-01,\n",
       "        2.82520826e-01,  2.82774446e-01,  2.84971497e-01,  2.87261312e-01,\n",
       "        2.87785900e-01,  2.88049338e-01,  2.90365617e-01,  2.91414652e-01,\n",
       "        3.09301490e-01,  3.13012752e-01,  3.16979055e-01,  3.17176326e-01,\n",
       "        3.19537088e-01,  3.21584391e-01,  3.23151890e-01,  3.25558948e-01,\n",
       "        3.26656788e-01,  3.30106208e-01,  3.31111839e-01,  3.36355360e-01,\n",
       "        3.36887664e-01,  3.38128210e-01,  3.40301297e-01,  3.40947332e-01,\n",
       "        3.41238725e-01,  3.43737358e-01,  3.43862908e-01,  3.44499962e-01,\n",
       "        3.44764924e-01,  3.46754152e-01,  3.47174048e-01,  3.47858511e-01,\n",
       "        3.50294335e-01,  3.57798166e-01,  3.60455421e-01,  3.61245317e-01,\n",
       "        3.62116103e-01,  3.62871162e-01,  3.63265229e-01,  3.70380811e-01,\n",
       "        3.73951816e-01,  3.74883058e-01,  3.81608889e-01,  3.84206978e-01,\n",
       "        3.86525998e-01,  3.94520457e-01,  3.98133518e-01,  3.98537241e-01,\n",
       "        4.00452104e-01,  4.03237765e-01,  4.03917709e-01,  4.03931826e-01,\n",
       "        4.04570076e-01,  4.05151064e-01,  4.06030784e-01,  4.07246985e-01,\n",
       "        4.09417291e-01,  4.11660169e-01,  4.12690578e-01,  4.15980487e-01,\n",
       "        4.16813468e-01,  4.17309988e-01,  4.26563583e-01,  4.27668044e-01,\n",
       "        4.32931923e-01,  4.41231806e-01,  4.44995641e-01,  4.46520356e-01,\n",
       "        4.48544303e-01,  4.50243226e-01,  4.67111642e-01,  4.69651423e-01,\n",
       "        4.69851781e-01,  4.71429052e-01,  4.71622352e-01,  4.72823410e-01,\n",
       "        4.76364377e-01,  4.81584023e-01,  4.84812585e-01,  4.85812671e-01,\n",
       "        4.88946637e-01,  4.89521229e-01,  4.93493117e-01,  4.97443833e-01,\n",
       "        5.01285095e-01,  5.02069774e-01,  5.02685672e-01,  5.03378177e-01,\n",
       "        5.05652732e-01,  5.11247395e-01,  5.11295225e-01,  5.11453612e-01,\n",
       "        5.15866592e-01,  5.17581431e-01,  5.21814381e-01,  5.22640830e-01,\n",
       "        5.24678952e-01,  5.31541996e-01,  5.31808381e-01,  5.35581038e-01,\n",
       "        5.38347760e-01,  5.40226403e-01,  5.43055627e-01,  5.45482012e-01,\n",
       "        5.50058055e-01,  5.54869228e-01,  5.54953065e-01,  5.60342472e-01,\n",
       "        5.64003429e-01,  5.67185791e-01,  5.73832750e-01,  5.77743572e-01,\n",
       "        5.80186256e-01,  5.81968375e-01,  5.87282701e-01,  5.96047573e-01,\n",
       "        5.96913343e-01,  5.98116108e-01,  5.98213589e-01,  6.00252860e-01,\n",
       "        6.00958785e-01,  6.04981088e-01,  6.05482487e-01,  6.07168721e-01,\n",
       "        6.08296910e-01,  6.08595939e-01,  6.11170015e-01,  6.12970617e-01,\n",
       "        6.14309982e-01,  6.19481631e-01,  6.26407398e-01,  6.26862485e-01,\n",
       "        6.26941812e-01,  6.27601618e-01,  6.29348169e-01,  6.30064863e-01,\n",
       "        6.36626030e-01,  6.41190834e-01,  6.42278082e-01,  6.49791646e-01,\n",
       "        6.50332842e-01,  6.56160297e-01,  6.59563249e-01,  6.60835254e-01,\n",
       "        6.62577004e-01,  6.63548641e-01,  6.64244481e-01,  6.68002972e-01,\n",
       "        6.75432402e-01,  6.76656164e-01,  6.76923753e-01,  6.80678563e-01,\n",
       "        6.80859058e-01,  6.81199294e-01,  6.85760013e-01,  6.95697007e-01,\n",
       "        7.00940941e-01,  7.01601095e-01,  7.03866164e-01,  7.04410239e-01,\n",
       "        7.05195203e-01,  7.06351549e-01,  7.13594691e-01,  7.19332931e-01,\n",
       "        7.19698968e-01,  7.26792080e-01,  7.27256192e-01,  7.28516375e-01,\n",
       "        7.28540933e-01,  7.31015805e-01,  7.33158282e-01,  7.33386552e-01,\n",
       "        7.36627551e-01,  7.44390847e-01,  7.45708734e-01,  7.47437716e-01,\n",
       "        7.53044068e-01,  7.56032243e-01,  7.68825803e-01,  7.74565510e-01,\n",
       "        7.75089808e-01,  7.76338851e-01,  7.80754541e-01,  7.81850975e-01,\n",
       "        7.82895175e-01,  7.87303118e-01,  7.88471861e-01,  7.91302704e-01,\n",
       "        7.95997409e-01,  7.96858141e-01,  7.99158308e-01,  7.99849795e-01,\n",
       "        8.04699848e-01,  8.10229754e-01,  8.10833383e-01,  8.18368889e-01,\n",
       "        8.22746990e-01,  8.34482990e-01,  8.37850530e-01,  8.39659189e-01,\n",
       "        8.43375290e-01,  8.45327986e-01,  8.53937925e-01,  8.58196851e-01,\n",
       "        8.65122014e-01,  8.68332987e-01,  8.69505635e-01,  8.72437842e-01,\n",
       "        8.84964041e-01,  8.86651054e-01,  8.97651428e-01,  9.00366698e-01,\n",
       "        9.01419577e-01,  9.02371997e-01,  9.06797479e-01,  9.08732977e-01,\n",
       "        9.13311890e-01,  9.13905405e-01,  9.17245057e-01,  9.18585775e-01,\n",
       "        9.19356776e-01,  9.23628200e-01,  9.25110627e-01,  9.29160846e-01,\n",
       "        9.32525554e-01,  9.34521324e-01,  9.37498538e-01,  9.41217344e-01,\n",
       "        9.54828952e-01,  9.55273323e-01,  9.58135359e-01,  9.61604243e-01,\n",
       "        9.74309241e-01,  9.76912062e-01,  9.80462016e-01,  9.85447478e-01,\n",
       "        9.87040427e-01,  9.87739645e-01,  9.97019467e-01,  1.00566576e+00,\n",
       "        1.00900233e+00,  1.00917431e+00,  1.01316136e+00,  1.01697936e+00,\n",
       "        1.01919694e+00,  1.02728816e+00,  1.03016484e+00,  1.03353010e+00,\n",
       "        1.03685184e+00,  1.04165999e+00,  1.04422202e+00,  1.04605040e+00,\n",
       "        1.05227705e+00,  1.05679779e+00,  1.06145085e+00,  1.06599017e+00,\n",
       "        1.06853807e+00,  1.07097253e+00,  1.07460609e+00,  1.07867986e+00,\n",
       "        1.08269097e+00,  1.08701465e+00,  1.08714166e+00,  1.08829829e+00,\n",
       "        1.08930449e+00,  1.09231378e+00,  1.09622101e+00,  1.10352837e+00,\n",
       "        1.10803896e+00,  1.10879456e+00,  1.11209818e+00,  1.11518574e+00,\n",
       "        1.11553743e+00,  1.11994516e+00,  1.12047695e+00,  1.13112106e+00,\n",
       "        1.13493717e+00,  1.14189976e+00,  1.14191735e+00,  1.15241244e+00,\n",
       "        1.15551180e+00,  1.15793295e+00,  1.16327847e+00,  1.16360059e+00,\n",
       "        1.16628826e+00,  1.17097707e+00,  1.17817338e+00,  1.19795813e+00,\n",
       "        1.19903073e+00,  1.20052168e+00,  1.20056288e+00,  1.20278058e+00,\n",
       "        1.20781742e+00,  1.20824103e+00,  1.21088161e+00,  1.22034831e+00,\n",
       "        1.22481147e+00,  1.22676545e+00,  1.23387576e+00,  1.24092658e+00,\n",
       "        1.24663655e+00,  1.24936354e+00,  1.25210028e+00,  1.25415634e+00,\n",
       "        1.25605982e+00,  1.26004150e+00,  1.26483728e+00,  1.26710391e+00,\n",
       "        1.26978501e+00,  1.27320562e+00,  1.27959853e+00,  1.28540029e+00,\n",
       "        1.28625621e+00,  1.30420435e+00,  1.31482585e+00,  1.32114626e+00,\n",
       "        1.32230859e+00,  1.33187935e+00,  1.33286632e+00,  1.34140822e+00,\n",
       "        1.34168292e+00,  1.35282461e+00,  1.35499838e+00,  1.35876431e+00,\n",
       "        1.36255555e+00,  1.36786452e+00,  1.36966980e+00,  1.37367923e+00,\n",
       "        1.37404834e+00,  1.38094695e+00,  1.38378595e+00,  1.38888974e+00,\n",
       "        1.39190731e+00,  1.40023068e+00,  1.40629351e+00,  1.42059924e+00,\n",
       "        1.42484370e+00,  1.42697512e+00,  1.44403658e+00,  1.44912676e+00,\n",
       "        1.44945999e+00,  1.45263667e+00,  1.47033063e+00,  1.48074926e+00,\n",
       "        1.49821226e+00,  1.54475829e+00,  1.56702549e+00,  1.57395402e+00,\n",
       "        1.58285726e+00,  1.59296620e+00,  1.61004641e+00,  1.63169901e+00,\n",
       "        1.64407166e+00,  1.66500486e+00,  1.67107616e+00,  1.73556047e+00,\n",
       "        1.73693296e+00,  1.74870927e+00,  1.76613561e+00,  1.78224747e+00,\n",
       "        1.79294497e+00,  1.79599674e+00,  1.80829535e+00,  1.81316708e+00,\n",
       "        1.85077252e+00,  1.87359850e+00,  1.88058542e+00,  1.89821671e+00,\n",
       "        1.93571764e+00,  1.93747928e+00,  1.94097440e+00,  1.95126768e+00,\n",
       "        1.96732342e+00,  1.97751996e+00,  1.99075489e+00,  1.99307733e+00,\n",
       "        2.02800670e+00,  2.03644438e+00,  2.05675306e+00,  2.06650515e+00,\n",
       "        2.07008886e+00,  2.07974148e+00,  2.08976360e+00,  2.11794561e+00,\n",
       "        2.11918100e+00,  2.12907929e+00,  2.18806098e+00,  2.19715886e+00,\n",
       "        2.20667720e+00,  2.20730258e+00,  2.21438474e+00,  2.22691033e+00,\n",
       "        2.23450436e+00,  2.25527679e+00,  2.27614802e+00,  2.33312189e+00,\n",
       "        2.33870713e+00,  2.42994293e+00,  2.44386874e+00,  2.44596941e+00,\n",
       "        2.56025075e+00,  2.56408255e+00,  2.65722932e+00,  2.68062057e+00,\n",
       "        2.76721075e+00,  2.89182961e+00,  3.14005504e+00,  3.14961936e+00])"
      ]
     },
     "execution_count": 44,
     "metadata": {},
     "output_type": "execute_result"
    }
   ],
   "source": [
    "large_arr"
   ]
  },
  {
   "cell_type": "code",
   "execution_count": 45,
   "metadata": {},
   "outputs": [
    {
     "data": {
      "text/plain": [
       "-1.6705582736403919"
      ]
     },
     "execution_count": 45,
     "metadata": {},
     "output_type": "execute_result"
    }
   ],
   "source": [
    "large_arr[int(0.05*len(large_arr))]"
   ]
  },
  {
   "cell_type": "code",
   "execution_count": 46,
   "metadata": {},
   "outputs": [
    {
     "data": {
      "text/plain": [
       "array(['Bob', 'Joe', 'Will'], dtype='<U4')"
      ]
     },
     "execution_count": 46,
     "metadata": {},
     "output_type": "execute_result"
    }
   ],
   "source": [
    "names = np.array(['Bob', 'Joe', 'Will', 'Bob', 'Will', 'Joe', 'Joe'])\n",
    "np.unique(names)"
   ]
  },
  {
   "cell_type": "code",
   "execution_count": 47,
   "metadata": {},
   "outputs": [
    {
     "data": {
      "text/plain": [
       "['Bob', 'Joe', 'Will']"
      ]
     },
     "execution_count": 47,
     "metadata": {},
     "output_type": "execute_result"
    }
   ],
   "source": [
    "sorted(set(names))"
   ]
  },
  {
   "cell_type": "code",
   "execution_count": 48,
   "metadata": {},
   "outputs": [
    {
     "data": {
      "text/plain": [
       "array([ True, False, False,  True,  True, False,  True])"
      ]
     },
     "execution_count": 48,
     "metadata": {},
     "output_type": "execute_result"
    }
   ],
   "source": [
    "values = np.array([6, 0, 0, 3, 2, 5, 6])\n",
    "np.in1d(values, [2, 3, 6])"
   ]
  },
  {
   "cell_type": "code",
   "execution_count": null,
   "metadata": {},
   "outputs": [],
   "source": [
    "arr = np.arange(10)\n",
    "np.save('some_array', arr)"
   ]
  },
  {
   "cell_type": "code",
   "execution_count": null,
   "metadata": {},
   "outputs": [],
   "source": [
    "np.load('some_array.npy')"
   ]
  },
  {
   "cell_type": "code",
   "execution_count": null,
   "metadata": {},
   "outputs": [],
   "source": [
    "np.savez('array_archive.npz', a=arr, b=arr)"
   ]
  },
  {
   "cell_type": "code",
   "execution_count": null,
   "metadata": {},
   "outputs": [],
   "source": [
    "arch = np.load('array_archive.npz')"
   ]
  },
  {
   "cell_type": "code",
   "execution_count": null,
   "metadata": {},
   "outputs": [],
   "source": [
    "arch['b']"
   ]
  },
  {
   "cell_type": "code",
   "execution_count": null,
   "metadata": {},
   "outputs": [],
   "source": [
    "np.savez_compressed('arrays_compressed.npz', a=arr, b=arr)"
   ]
  },
  {
   "cell_type": "code",
   "execution_count": 49,
   "metadata": {},
   "outputs": [],
   "source": [
    "x = np.array([[1., 2., 3.], [4., 5., 6.]])\n",
    "y = np.array([[6., 23.], [-1, 7], [8, 9]])"
   ]
  },
  {
   "cell_type": "code",
   "execution_count": 50,
   "metadata": {},
   "outputs": [
    {
     "name": "stdout",
     "output_type": "stream",
     "text": [
      "[[1. 2. 3.]\n",
      " [4. 5. 6.]]\n",
      "[[ 6. 23.]\n",
      " [-1.  7.]\n",
      " [ 8.  9.]]\n"
     ]
    }
   ],
   "source": [
    "print(x)\n",
    "print(y)"
   ]
  },
  {
   "cell_type": "code",
   "execution_count": 51,
   "metadata": {},
   "outputs": [
    {
     "ename": "ValueError",
     "evalue": "operands could not be broadcast together with shapes (2,3) (3,2) ",
     "output_type": "error",
     "traceback": [
      "\u001b[1;31m---------------------------------------------------------------------------\u001b[0m",
      "\u001b[1;31mValueError\u001b[0m                                Traceback (most recent call last)",
      "\u001b[1;32m<ipython-input-51-7a2c1caf0dad>\u001b[0m in \u001b[0;36m<module>\u001b[1;34m\u001b[0m\n\u001b[1;32m----> 1\u001b[1;33m \u001b[0mx\u001b[0m\u001b[1;33m*\u001b[0m\u001b[0my\u001b[0m\u001b[1;33m\u001b[0m\u001b[1;33m\u001b[0m\u001b[0m\n\u001b[0m",
      "\u001b[1;31mValueError\u001b[0m: operands could not be broadcast together with shapes (2,3) (3,2) "
     ]
    }
   ],
   "source": [
    "x*y"
   ]
  },
  {
   "cell_type": "code",
   "execution_count": 52,
   "metadata": {},
   "outputs": [
    {
     "data": {
      "text/plain": [
       "array([[ 28.,  64.],\n",
       "       [ 67., 181.]])"
      ]
     },
     "execution_count": 52,
     "metadata": {},
     "output_type": "execute_result"
    }
   ],
   "source": [
    "x.dot(y)"
   ]
  },
  {
   "cell_type": "code",
   "execution_count": 53,
   "metadata": {},
   "outputs": [
    {
     "data": {
      "text/plain": [
       "array([[ 28.,  64.],\n",
       "       [ 67., 181.]])"
      ]
     },
     "execution_count": 53,
     "metadata": {},
     "output_type": "execute_result"
    }
   ],
   "source": [
    "np.dot(x, y)"
   ]
  },
  {
   "cell_type": "code",
   "execution_count": 54,
   "metadata": {},
   "outputs": [
    {
     "data": {
      "text/plain": [
       "array([ 6., 15.])"
      ]
     },
     "execution_count": 54,
     "metadata": {},
     "output_type": "execute_result"
    }
   ],
   "source": [
    "np.dot(x, np.ones(3))"
   ]
  },
  {
   "cell_type": "code",
   "execution_count": 55,
   "metadata": {},
   "outputs": [
    {
     "data": {
      "text/plain": [
       "array([ 6., 15.])"
      ]
     },
     "execution_count": 55,
     "metadata": {},
     "output_type": "execute_result"
    }
   ],
   "source": [
    "x @ np.ones(3)"
   ]
  },
  {
   "cell_type": "code",
   "execution_count": 56,
   "metadata": {},
   "outputs": [],
   "source": [
    "from numpy.linalg import inv, qr"
   ]
  },
  {
   "cell_type": "code",
   "execution_count": 57,
   "metadata": {},
   "outputs": [
    {
     "data": {
      "text/plain": [
       "array([[ 0.1707109 , -0.46054153, -0.14254917, -0.91689526,  0.4178597 ],\n",
       "       [ 1.69119336, -1.2291266 ,  0.03494643, -0.4258153 , -0.22934847],\n",
       "       [ 1.24171201, -1.51520637,  0.97666313,  1.13448167, -0.42148918],\n",
       "       [ 0.7655393 ,  1.21875049, -0.41986489,  0.30434726, -1.22168838],\n",
       "       [ 0.82221754,  1.80184217, -0.12100964,  0.25922998, -0.95364985]])"
      ]
     },
     "execution_count": 57,
     "metadata": {},
     "output_type": "execute_result"
    }
   ],
   "source": [
    "X = np.random.randn(5, 5)\n",
    "X"
   ]
  },
  {
   "cell_type": "code",
   "execution_count": 58,
   "metadata": {},
   "outputs": [],
   "source": [
    "mat = X.T.dot(X)"
   ]
  },
  {
   "cell_type": "code",
   "execution_count": 59,
   "metadata": {},
   "outputs": [
    {
     "data": {
      "text/plain": [
       "array([[-1.91387807,  1.56756919, -0.79220169, -1.28899594,  0.78582689],\n",
       "       [-0.45161733,  0.18741102, -0.28595737, -0.73345514,  0.82303419],\n",
       "       [ 4.33021537, -2.65866777,  2.15937506,  0.78280162,  0.57955338],\n",
       "       [-3.74908093,  1.76017326, -1.16646097, -1.34295915,  0.16992128],\n",
       "       [-4.07197593,  2.52145173, -1.81439656, -2.96153486,  1.15662527]])"
      ]
     },
     "execution_count": 59,
     "metadata": {},
     "output_type": "execute_result"
    }
   ],
   "source": [
    "inv(X)"
   ]
  },
  {
   "cell_type": "code",
   "execution_count": 60,
   "metadata": {},
   "outputs": [
    {
     "data": {
      "text/plain": [
       "array([[  9.02682036,   2.97683926, -14.71940994,  12.72314708,\n",
       "         17.90949712],\n",
       "       [  2.97683926,   1.53619444,  -3.16851079,   3.48143523,\n",
       "          5.95445792],\n",
       "       [-14.71940994,  -3.16851079,  31.4308406 , -24.38566264,\n",
       "        -29.90216606],\n",
       "       [ 12.72314708,   3.48143523, -24.38566264,  20.34686142,\n",
       "         25.99453755],\n",
       "       [ 17.90949712,   5.95445792, -29.90216606,  25.99453755,\n",
       "         36.33921237]])"
      ]
     },
     "execution_count": 60,
     "metadata": {},
     "output_type": "execute_result"
    }
   ],
   "source": [
    "inv(mat)"
   ]
  },
  {
   "cell_type": "code",
   "execution_count": 61,
   "metadata": {},
   "outputs": [
    {
     "data": {
      "text/plain": [
       "array([[ 1.00000000e+00, -8.11340849e-16,  2.52903530e-15,\n",
       "         3.69344500e-15, -2.14761256e-15],\n",
       "       [-7.78806129e-15,  1.00000000e+00, -4.47038064e-16,\n",
       "         1.00257016e-14, -3.52851319e-15],\n",
       "       [-7.20318475e-16, -2.26970723e-16,  1.00000000e+00,\n",
       "        -1.14028899e-15, -3.21286600e-15],\n",
       "       [-4.86682001e-16, -3.99365209e-16,  8.69006228e-15,\n",
       "         1.00000000e+00, -4.36516306e-15],\n",
       "       [-4.93463321e-15,  1.84600796e-15, -1.94716201e-15,\n",
       "        -3.81685190e-15,  1.00000000e+00]])"
      ]
     },
     "execution_count": 61,
     "metadata": {},
     "output_type": "execute_result"
    }
   ],
   "source": [
    "mat.dot(inv(mat))"
   ]
  },
  {
   "cell_type": "code",
   "execution_count": 62,
   "metadata": {},
   "outputs": [
    {
     "data": {
      "text/plain": [
       "array([[-6.57577579,  2.86811734, -1.50277085, -1.87013045,  2.88275435],\n",
       "       [ 0.        , -9.0509454 ,  2.10152793, -0.61875235,  3.66587841],\n",
       "       [ 0.        ,  0.        , -1.14330747, -2.4675629 ,  0.82676476],\n",
       "       [ 0.        ,  0.        ,  0.        , -0.36421418,  0.27499573],\n",
       "       [ 0.        ,  0.        ,  0.        ,  0.        ,  0.01755034]])"
      ]
     },
     "execution_count": 62,
     "metadata": {},
     "output_type": "execute_result"
    }
   ],
   "source": [
    "q, r = qr(mat)\n",
    "r"
   ]
  },
  {
   "cell_type": "code",
   "execution_count": 63,
   "metadata": {},
   "outputs": [
    {
     "data": {
      "text/plain": [
       "array([[-0.86578652, -0.0948989 ,  0.24058668,  0.29108461,  0.31431784],\n",
       "       [ 0.24700546, -0.88855341, -0.04514239,  0.36946242,  0.10450279],\n",
       "       [-0.12570098,  0.20178838, -0.48401552,  0.65863622, -0.52479331],\n",
       "       [-0.14875397, -0.05428539, -0.83548255, -0.26222868,  0.45621308],\n",
       "       [ 0.38919601,  0.39724248,  0.08819349,  0.52554897,  0.63776569]])"
      ]
     },
     "execution_count": 63,
     "metadata": {},
     "output_type": "execute_result"
    }
   ],
   "source": [
    "q"
   ]
  },
  {
   "cell_type": "code",
   "execution_count": 64,
   "metadata": {},
   "outputs": [
    {
     "data": {
      "text/plain": [
       "array([[-0.03813839,  0.7148635 ,  1.69960964, -0.22905586],\n",
       "       [ 1.1914512 ,  0.60257188, -0.43308385,  0.34872812],\n",
       "       [-1.39900172,  0.34709176, -0.52536076,  0.50830115],\n",
       "       [ 0.8264474 , -0.72843463,  0.58823136,  0.94480567]])"
      ]
     },
     "execution_count": 64,
     "metadata": {},
     "output_type": "execute_result"
    }
   ],
   "source": [
    "samples = np.random.normal(size=(4, 4))\n",
    "samples"
   ]
  },
  {
   "cell_type": "code",
   "execution_count": null,
   "metadata": {},
   "outputs": [],
   "source": [
    "from random import normalvariate\n",
    "N = 1000000\n",
    "%timeit samples = [normalvariate(0, 1) for _ in range(N)]\n",
    "1.77 s +- 126 ms per loop (mean +- std. dev. of 7 runs, 1 loop each)\n"
   ]
  }
 ],
 "metadata": {
  "kernelspec": {
   "display_name": "Python 3",
   "language": "python",
   "name": "python3"
  },
  "language_info": {
   "codemirror_mode": {
    "name": "ipython",
    "version": 3
   },
   "file_extension": ".py",
   "mimetype": "text/x-python",
   "name": "python",
   "nbconvert_exporter": "python",
   "pygments_lexer": "ipython3",
   "version": "3.8.3"
  }
 },
 "nbformat": 4,
 "nbformat_minor": 4
}
